{
  "nbformat": 4,
  "nbformat_minor": 0,
  "metadata": {
    "colab": {
      "provenance": []
    },
    "kernelspec": {
      "name": "python3",
      "display_name": "Python 3"
    },
    "language_info": {
      "name": "python"
    },
    "accelerator": "GPU",
    "gpuClass": "standard"
  },
  "cells": [
    {
      "cell_type": "code",
      "source": [
        "%%capture\n",
        "!pip install langchain huggingface_hub openai chromadb tiktoken"
      ],
      "metadata": {
        "id": "cpcxUZOWWt6T"
      },
      "execution_count": 32,
      "outputs": []
    },
    {
      "cell_type": "code",
      "source": [
        "from langchain import PromptTemplate\n",
        "from langchain import HuggingFaceHub, LLMChain\n",
        "import os\n",
        "\n",
        "os.environ['OPENAI_API_KEY'] = 'API_KEY_OPENAI'\n",
        "import pandas as pd"
      ],
      "metadata": {
        "id": "SJHUJMd15Qt_"
      },
      "execution_count": 33,
      "outputs": []
    },
    {
      "cell_type": "code",
      "source": [
        "# all links from knowledgebase https://support.paysera.com/index.php?/payseraeng/Knowledgebase/List\n",
        "data = pd.read_csv('/content/pairs_link_desc.csv')\n",
        "data"
      ],
      "metadata": {
        "colab": {
          "base_uri": "https://localhost:8080/",
          "height": 423
        },
        "id": "UD_VvEJF5TQR",
        "outputId": "6df1e62b-f621-4c49-e69f-9ee9278e72ab"
      },
      "execution_count": 39,
      "outputs": [
        {
          "output_type": "execute_result",
          "data": {
            "text/plain": [
              "     Unnamed: 0                                               link  \\\n",
              "0             0  https://support.paysera.com/index.php?/paysera...   \n",
              "1             1  https://support.paysera.com/index.php?/paysera...   \n",
              "2             2  https://support.paysera.com/index.php?/paysera...   \n",
              "3             3  https://support.paysera.com/index.php?/paysera...   \n",
              "4             4  https://support.paysera.com/index.php?/paysera...   \n",
              "..          ...                                                ...   \n",
              "147         147  https://support.paysera.com/index.php?/paysera...   \n",
              "148         148  https://support.paysera.com/index.php?/paysera...   \n",
              "149         149  https://support.paysera.com/index.php?/paysera...   \n",
              "150         150  https://support.paysera.com/index.php?/paysera...   \n",
              "151         151  https://support.paysera.com/index.php?/paysera...   \n",
              "\n",
              "                                           description  \n",
              "0                                   1. Account opening  \n",
              "1                                 1.01 Account opening  \n",
              "2                                    1.02 Account fees  \n",
              "3                                  1.03 Identification  \n",
              "4                      1.04 Additional account opening  \n",
              "..                                                 ...  \n",
              "147  7.30 I received a suspicious call, what should...  \n",
              "148                                           Site.pro  \n",
              "149     23.21 Main information before confirming order  \n",
              "150  10.18. How to sell tickets at physical locations?  \n",
              "151                                               Zyro  \n",
              "\n",
              "[152 rows x 3 columns]"
            ],
            "text/html": [
              "\n",
              "  <div id=\"df-ea69b885-1970-4010-a766-cf9b48b17e0b\">\n",
              "    <div class=\"colab-df-container\">\n",
              "      <div>\n",
              "<style scoped>\n",
              "    .dataframe tbody tr th:only-of-type {\n",
              "        vertical-align: middle;\n",
              "    }\n",
              "\n",
              "    .dataframe tbody tr th {\n",
              "        vertical-align: top;\n",
              "    }\n",
              "\n",
              "    .dataframe thead th {\n",
              "        text-align: right;\n",
              "    }\n",
              "</style>\n",
              "<table border=\"1\" class=\"dataframe\">\n",
              "  <thead>\n",
              "    <tr style=\"text-align: right;\">\n",
              "      <th></th>\n",
              "      <th>Unnamed: 0</th>\n",
              "      <th>link</th>\n",
              "      <th>description</th>\n",
              "    </tr>\n",
              "  </thead>\n",
              "  <tbody>\n",
              "    <tr>\n",
              "      <th>0</th>\n",
              "      <td>0</td>\n",
              "      <td>https://support.paysera.com/index.php?/paysera...</td>\n",
              "      <td>1. Account opening</td>\n",
              "    </tr>\n",
              "    <tr>\n",
              "      <th>1</th>\n",
              "      <td>1</td>\n",
              "      <td>https://support.paysera.com/index.php?/paysera...</td>\n",
              "      <td>1.01 Account opening</td>\n",
              "    </tr>\n",
              "    <tr>\n",
              "      <th>2</th>\n",
              "      <td>2</td>\n",
              "      <td>https://support.paysera.com/index.php?/paysera...</td>\n",
              "      <td>1.02 Account fees</td>\n",
              "    </tr>\n",
              "    <tr>\n",
              "      <th>3</th>\n",
              "      <td>3</td>\n",
              "      <td>https://support.paysera.com/index.php?/paysera...</td>\n",
              "      <td>1.03 Identification</td>\n",
              "    </tr>\n",
              "    <tr>\n",
              "      <th>4</th>\n",
              "      <td>4</td>\n",
              "      <td>https://support.paysera.com/index.php?/paysera...</td>\n",
              "      <td>1.04 Additional account opening</td>\n",
              "    </tr>\n",
              "    <tr>\n",
              "      <th>...</th>\n",
              "      <td>...</td>\n",
              "      <td>...</td>\n",
              "      <td>...</td>\n",
              "    </tr>\n",
              "    <tr>\n",
              "      <th>147</th>\n",
              "      <td>147</td>\n",
              "      <td>https://support.paysera.com/index.php?/paysera...</td>\n",
              "      <td>7.30 I received a suspicious call, what should...</td>\n",
              "    </tr>\n",
              "    <tr>\n",
              "      <th>148</th>\n",
              "      <td>148</td>\n",
              "      <td>https://support.paysera.com/index.php?/paysera...</td>\n",
              "      <td>Site.pro</td>\n",
              "    </tr>\n",
              "    <tr>\n",
              "      <th>149</th>\n",
              "      <td>149</td>\n",
              "      <td>https://support.paysera.com/index.php?/paysera...</td>\n",
              "      <td>23.21 Main information before confirming order</td>\n",
              "    </tr>\n",
              "    <tr>\n",
              "      <th>150</th>\n",
              "      <td>150</td>\n",
              "      <td>https://support.paysera.com/index.php?/paysera...</td>\n",
              "      <td>10.18. How to sell tickets at physical locations?</td>\n",
              "    </tr>\n",
              "    <tr>\n",
              "      <th>151</th>\n",
              "      <td>151</td>\n",
              "      <td>https://support.paysera.com/index.php?/paysera...</td>\n",
              "      <td>Zyro</td>\n",
              "    </tr>\n",
              "  </tbody>\n",
              "</table>\n",
              "<p>152 rows × 3 columns</p>\n",
              "</div>\n",
              "      <button class=\"colab-df-convert\" onclick=\"convertToInteractive('df-ea69b885-1970-4010-a766-cf9b48b17e0b')\"\n",
              "              title=\"Convert this dataframe to an interactive table.\"\n",
              "              style=\"display:none;\">\n",
              "        \n",
              "  <svg xmlns=\"http://www.w3.org/2000/svg\" height=\"24px\"viewBox=\"0 0 24 24\"\n",
              "       width=\"24px\">\n",
              "    <path d=\"M0 0h24v24H0V0z\" fill=\"none\"/>\n",
              "    <path d=\"M18.56 5.44l.94 2.06.94-2.06 2.06-.94-2.06-.94-.94-2.06-.94 2.06-2.06.94zm-11 1L8.5 8.5l.94-2.06 2.06-.94-2.06-.94L8.5 2.5l-.94 2.06-2.06.94zm10 10l.94 2.06.94-2.06 2.06-.94-2.06-.94-.94-2.06-.94 2.06-2.06.94z\"/><path d=\"M17.41 7.96l-1.37-1.37c-.4-.4-.92-.59-1.43-.59-.52 0-1.04.2-1.43.59L10.3 9.45l-7.72 7.72c-.78.78-.78 2.05 0 2.83L4 21.41c.39.39.9.59 1.41.59.51 0 1.02-.2 1.41-.59l7.78-7.78 2.81-2.81c.8-.78.8-2.07 0-2.86zM5.41 20L4 18.59l7.72-7.72 1.47 1.35L5.41 20z\"/>\n",
              "  </svg>\n",
              "      </button>\n",
              "      \n",
              "  <style>\n",
              "    .colab-df-container {\n",
              "      display:flex;\n",
              "      flex-wrap:wrap;\n",
              "      gap: 12px;\n",
              "    }\n",
              "\n",
              "    .colab-df-convert {\n",
              "      background-color: #E8F0FE;\n",
              "      border: none;\n",
              "      border-radius: 50%;\n",
              "      cursor: pointer;\n",
              "      display: none;\n",
              "      fill: #1967D2;\n",
              "      height: 32px;\n",
              "      padding: 0 0 0 0;\n",
              "      width: 32px;\n",
              "    }\n",
              "\n",
              "    .colab-df-convert:hover {\n",
              "      background-color: #E2EBFA;\n",
              "      box-shadow: 0px 1px 2px rgba(60, 64, 67, 0.3), 0px 1px 3px 1px rgba(60, 64, 67, 0.15);\n",
              "      fill: #174EA6;\n",
              "    }\n",
              "\n",
              "    [theme=dark] .colab-df-convert {\n",
              "      background-color: #3B4455;\n",
              "      fill: #D2E3FC;\n",
              "    }\n",
              "\n",
              "    [theme=dark] .colab-df-convert:hover {\n",
              "      background-color: #434B5C;\n",
              "      box-shadow: 0px 1px 3px 1px rgba(0, 0, 0, 0.15);\n",
              "      filter: drop-shadow(0px 1px 2px rgba(0, 0, 0, 0.3));\n",
              "      fill: #FFFFFF;\n",
              "    }\n",
              "  </style>\n",
              "\n",
              "      <script>\n",
              "        const buttonEl =\n",
              "          document.querySelector('#df-ea69b885-1970-4010-a766-cf9b48b17e0b button.colab-df-convert');\n",
              "        buttonEl.style.display =\n",
              "          google.colab.kernel.accessAllowed ? 'block' : 'none';\n",
              "\n",
              "        async function convertToInteractive(key) {\n",
              "          const element = document.querySelector('#df-ea69b885-1970-4010-a766-cf9b48b17e0b');\n",
              "          const dataTable =\n",
              "            await google.colab.kernel.invokeFunction('convertToInteractive',\n",
              "                                                     [key], {});\n",
              "          if (!dataTable) return;\n",
              "\n",
              "          const docLinkHtml = 'Like what you see? Visit the ' +\n",
              "            '<a target=\"_blank\" href=https://colab.research.google.com/notebooks/data_table.ipynb>data table notebook</a>'\n",
              "            + ' to learn more about interactive tables.';\n",
              "          element.innerHTML = '';\n",
              "          dataTable['output_type'] = 'display_data';\n",
              "          await google.colab.output.renderOutput(dataTable, element);\n",
              "          const docLink = document.createElement('div');\n",
              "          docLink.innerHTML = docLinkHtml;\n",
              "          element.appendChild(docLink);\n",
              "        }\n",
              "      </script>\n",
              "    </div>\n",
              "  </div>\n",
              "  "
            ]
          },
          "metadata": {},
          "execution_count": 39
        }
      ]
    },
    {
      "cell_type": "code",
      "source": [
        "from langchain.document_loaders import TextLoader\n",
        "from langchain.indexes import VectorstoreIndexCreator\n",
        "\n",
        "loader = TextLoader('/content/pairs_link_desc.csv')\n",
        "index = VectorstoreIndexCreator().from_loaders([loader])"
      ],
      "metadata": {
        "colab": {
          "base_uri": "https://localhost:8080/"
        },
        "id": "dE5Ik8ve6pwg",
        "outputId": "83c689bb-18a9-48ed-c6ed-639c481f88b5"
      },
      "execution_count": 40,
      "outputs": [
        {
          "output_type": "stream",
          "name": "stderr",
          "text": [
            "WARNING:chromadb:Using embedded DuckDB without persistence: data will be transient\n"
          ]
        }
      ]
    },
    {
      "cell_type": "code",
      "source": [
        "def make_query(query):\n",
        "    basse_prompt = 'give me top 3 links for *query*'\n",
        "    query = f\"{basse_prompt} {query}\"\n",
        "    print(index.query_with_sources(query))\n",
        "\n",
        "\n",
        "if __name__ == \"__main__\":\n",
        "    while True:\n",
        "        question = input('Enter your query: ')\n",
        "        if question == 'q':\n",
        "            exit(0)\n",
        "        make_query(question)\n"
      ],
      "metadata": {
        "colab": {
          "base_uri": "https://localhost:8080/",
          "height": 592
        },
        "id": "cHQHb_1F7RJY",
        "outputId": "bfb6c31f-91ce-4b62-9a21-90f8925cd209"
      },
      "execution_count": 41,
      "outputs": [
        {
          "output_type": "stream",
          "name": "stdout",
          "text": [
            "Enter your query: how does your delivery service work?\n",
            "{'question': 'give me top 3 links for *query* how does your delivery service work?', 'answer': '\\nThe top 3 links for the query \"how does your delivery service work?\" are:\\n1. https://support.paysera.com/index.php?/payseraeng/Knowledgebase/Article/View/3489/369/2303-what-are-the-benefits-of-the-delivery-service\\n2. https://support.paysera.com/index.php?/payseraeng/Knowledgebase/Article/View/3490/369/2304-how-much-does-the-delivery-service-cost\\n3. https://support.paysera.com/index.php?/payseraeng/Knowledgebase/Article/View/3491/369/2305-how-do-i-view-my-bills-and-invoices\\n', 'sources': '/content/pairs_link_desc.csv'}\n",
            "Enter your query: i paid goods. when i receive it?\n",
            "{'question': 'give me top 3 links for *query* i paid goods. when i receive it?', 'answer': '\\n\\nTop 3 links for query \"I paid goods. When I receive it?\":\\n1. https://support.paysera.com/index.php?/payseraeng/Knowledgebase/Article/View/562/96/501-i-have-paid-for-goodsservices-but-i-have-not-received-them-what-do-i-do\\n2. https://support.paysera.com/index.php?/payseraeng/Knowledgebase/Article/View/599/96/502-i-have-contacted-the-merchant-but-i-never-received-any-response-whom-do-i-contact-further\\n3. https://support.paysera.com/index.php?/payseraeng/Knowledgebase/Article/View/563/96/503-i-have-sent-an-sms-message-but-i-never-received-the-service-what-do-i-do\\n', 'sources': '/content/pairs_link_desc.csv'}\n",
            "Enter your query: i want create transfer template\n",
            "{'question': 'give me top 3 links for *query* i want create transfer template', 'answer': ' The top 3 links for creating a transfer template are: \\n1. https://support.paysera.com/index.php?/payseraeng/Knowledgebase/Article/View/1374/89/705-how-to-create-a-transfer-template\\n2. https://support.paysera.com/index.php?/payseraeng/Knowledgebase/Article/View/472/89/701-i-want-to-perform-a-transfer-from-an-account-in-a-bank-of-a-foreign-country-to-a-lithuanian-bank-account\\n3. https://support.paysera.com/index.php?/payseraeng/Knowledgebase/Article/View/475/89/704-where-can-i-check-the-received-funds\\n', 'sources': '/content/pairs_link_desc.csv'}\n",
            "Enter your query: online visa confirmation payment\n",
            "{'question': 'give me top 3 links for *query* online visa confirmation payment', 'answer': '\\n1. https://support.paysera.com/index.php?/payseraeng/Knowledgebase/Article/View/547/95/1301-a-client-has-paid-for-a-product--service-where-can-i-see-the-payment\\n2. https://support.paysera.com/index.php?/payseraeng/Knowledgebase/Article/View/3632/0/2321-main-information-before-confirming-order\\n3. https://support.paysera.com/index.php?/payseraeng/Knowledgebase/Article/View/3625/0/1018-how-to-sell-tickets-at-physical-locations\\n', 'sources': '/content/pairs_link_desc.csv'}\n",
            "Enter your query: how can i sell gold online\n",
            "{'question': 'give me top 3 links for *query* how can i sell gold online', 'answer': '\\nThe top 3 links for the query \"how can I sell gold online\" are:\\n1. https://support.paysera.com/index.php?/payseraeng/Knowledgebase/Article/View/2103/261/2104-how-to-buy-gold-online\\n2. https://support.paysera.com/index.php?/payseraeng/Knowledgebase/Article/View/2094/260/2004-how-does-the-escrow-account-service-work\\n3. https://support.paysera.com/index.php?/payseraeng/Knowledgebase/Article/View/2100/261/2101-what-is-gold\\n', 'sources': '/content/pairs_link_desc.csv'}\n"
          ]
        },
        {
          "output_type": "error",
          "ename": "KeyboardInterrupt",
          "evalue": "ignored",
          "traceback": [
            "\u001b[0;31m---------------------------------------------------------------------------\u001b[0m",
            "\u001b[0;31mKeyboardInterrupt\u001b[0m                         Traceback (most recent call last)",
            "\u001b[0;32m<ipython-input-41-5b9f5656282c>\u001b[0m in \u001b[0;36m<cell line: 7>\u001b[0;34m()\u001b[0m\n\u001b[1;32m      7\u001b[0m \u001b[0;32mif\u001b[0m \u001b[0m__name__\u001b[0m \u001b[0;34m==\u001b[0m \u001b[0;34m\"__main__\"\u001b[0m\u001b[0;34m:\u001b[0m\u001b[0;34m\u001b[0m\u001b[0;34m\u001b[0m\u001b[0m\n\u001b[1;32m      8\u001b[0m     \u001b[0;32mwhile\u001b[0m \u001b[0;32mTrue\u001b[0m\u001b[0;34m:\u001b[0m\u001b[0;34m\u001b[0m\u001b[0;34m\u001b[0m\u001b[0m\n\u001b[0;32m----> 9\u001b[0;31m         \u001b[0mquestion\u001b[0m \u001b[0;34m=\u001b[0m \u001b[0minput\u001b[0m\u001b[0;34m(\u001b[0m\u001b[0;34m'Enter your query: '\u001b[0m\u001b[0;34m)\u001b[0m\u001b[0;34m\u001b[0m\u001b[0;34m\u001b[0m\u001b[0m\n\u001b[0m\u001b[1;32m     10\u001b[0m         \u001b[0;32mif\u001b[0m \u001b[0mquestion\u001b[0m \u001b[0;34m==\u001b[0m \u001b[0;34m'q'\u001b[0m\u001b[0;34m:\u001b[0m\u001b[0;34m\u001b[0m\u001b[0;34m\u001b[0m\u001b[0m\n\u001b[1;32m     11\u001b[0m             \u001b[0mexit\u001b[0m\u001b[0;34m(\u001b[0m\u001b[0;36m0\u001b[0m\u001b[0;34m)\u001b[0m\u001b[0;34m\u001b[0m\u001b[0;34m\u001b[0m\u001b[0m\n",
            "\u001b[0;32m/usr/local/lib/python3.9/dist-packages/ipykernel/kernelbase.py\u001b[0m in \u001b[0;36mraw_input\u001b[0;34m(self, prompt)\u001b[0m\n\u001b[1;32m    849\u001b[0m                 \u001b[0;34m\"raw_input was called, but this frontend does not support input requests.\"\u001b[0m\u001b[0;34m\u001b[0m\u001b[0;34m\u001b[0m\u001b[0m\n\u001b[1;32m    850\u001b[0m             )\n\u001b[0;32m--> 851\u001b[0;31m         return self._input_request(str(prompt),\n\u001b[0m\u001b[1;32m    852\u001b[0m             \u001b[0mself\u001b[0m\u001b[0;34m.\u001b[0m\u001b[0m_parent_ident\u001b[0m\u001b[0;34m,\u001b[0m\u001b[0;34m\u001b[0m\u001b[0;34m\u001b[0m\u001b[0m\n\u001b[1;32m    853\u001b[0m             \u001b[0mself\u001b[0m\u001b[0;34m.\u001b[0m\u001b[0m_parent_header\u001b[0m\u001b[0;34m,\u001b[0m\u001b[0;34m\u001b[0m\u001b[0;34m\u001b[0m\u001b[0m\n",
            "\u001b[0;32m/usr/local/lib/python3.9/dist-packages/ipykernel/kernelbase.py\u001b[0m in \u001b[0;36m_input_request\u001b[0;34m(self, prompt, ident, parent, password)\u001b[0m\n\u001b[1;32m    893\u001b[0m             \u001b[0;32mexcept\u001b[0m \u001b[0mKeyboardInterrupt\u001b[0m\u001b[0;34m:\u001b[0m\u001b[0;34m\u001b[0m\u001b[0;34m\u001b[0m\u001b[0m\n\u001b[1;32m    894\u001b[0m                 \u001b[0;31m# re-raise KeyboardInterrupt, to truncate traceback\u001b[0m\u001b[0;34m\u001b[0m\u001b[0;34m\u001b[0m\u001b[0m\n\u001b[0;32m--> 895\u001b[0;31m                 \u001b[0;32mraise\u001b[0m \u001b[0mKeyboardInterrupt\u001b[0m\u001b[0;34m(\u001b[0m\u001b[0;34m\"Interrupted by user\"\u001b[0m\u001b[0;34m)\u001b[0m \u001b[0;32mfrom\u001b[0m \u001b[0;32mNone\u001b[0m\u001b[0;34m\u001b[0m\u001b[0;34m\u001b[0m\u001b[0m\n\u001b[0m\u001b[1;32m    896\u001b[0m             \u001b[0;32mexcept\u001b[0m \u001b[0mException\u001b[0m \u001b[0;32mas\u001b[0m \u001b[0me\u001b[0m\u001b[0;34m:\u001b[0m\u001b[0;34m\u001b[0m\u001b[0;34m\u001b[0m\u001b[0m\n\u001b[1;32m    897\u001b[0m                 \u001b[0mself\u001b[0m\u001b[0;34m.\u001b[0m\u001b[0mlog\u001b[0m\u001b[0;34m.\u001b[0m\u001b[0mwarning\u001b[0m\u001b[0;34m(\u001b[0m\u001b[0;34m\"Invalid Message:\"\u001b[0m\u001b[0;34m,\u001b[0m \u001b[0mexc_info\u001b[0m\u001b[0;34m=\u001b[0m\u001b[0;32mTrue\u001b[0m\u001b[0;34m)\u001b[0m\u001b[0;34m\u001b[0m\u001b[0;34m\u001b[0m\u001b[0m\n",
            "\u001b[0;31mKeyboardInterrupt\u001b[0m: Interrupted by user"
          ]
        }
      ]
    }
  ]
}